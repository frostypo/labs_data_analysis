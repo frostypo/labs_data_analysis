{
  "nbformat": 4,
  "nbformat_minor": 0,
  "metadata": {
    "colab": {
      "provenance": []
    },
    "kernelspec": {
      "name": "python3",
      "display_name": "Python 3"
    },
    "language_info": {
      "name": "python"
    }
  },
  "cells": [
    {
      "cell_type": "markdown",
      "source": [
        "# **Лабораторная работа №4. Метод Монте-Карло.**"
      ],
      "metadata": {
        "id": "FMLjuKuACNaf"
      }
    },
    {
      "cell_type": "code",
      "source": [
        "import pandas as pd\n",
        "import numpy as np\n",
        "\n",
        "import matplotlib\n",
        "import matplotlib.pyplot as plt\n",
        "%matplotlib inline\n",
        "\n",
        "import random"
      ],
      "metadata": {
        "id": "c3ZzjA-6FmlG"
      },
      "execution_count": null,
      "outputs": []
    },
    {
      "cell_type": "code",
      "source": [
        "#  Задача 2.7\n",
        "\n",
        "#  Бросаются 4 игральные кости. Найти вероятность того,\n",
        "#  что на них выпадет по одинаковому числу очков\n",
        "\n",
        "\n",
        "#  Число экспериментов\n",
        "n_exp = 1000000\n",
        "\n",
        "#  пространство элементарных событий\n",
        "A = list(range(1,7))\n",
        "\n",
        "#  Обнуляем счетчик числа благоприятных событий\n",
        "k_success=0\n",
        "\n",
        "#  n_exp испытаний,  бросаем три кубика\n",
        "for i in range(n_exp):\n",
        "    #    4 броска кубика   Выборка с возвращением\n",
        "    dice = random.choices(A, k=4)\n",
        "\n",
        "    #  Исход благоприятный?\n",
        "    if dice[0] == dice[1] == dice[2] == dice[3]:\n",
        "        k_success += 1\n",
        "\n",
        "print('Вероятность одинакового выпадения равна', np.round(k_success/n_exp, 6))"
      ],
      "metadata": {
        "colab": {
          "base_uri": "https://localhost:8080/"
        },
        "id": "e5xQt7tkCxv4",
        "outputId": "233d5a43-8712-4d7b-9855-2a0d38f569dd"
      },
      "execution_count": null,
      "outputs": [
        {
          "output_type": "stream",
          "name": "stdout",
          "text": [
            "Вероятность одинакового выпадения равна 0.004651\n"
          ]
        }
      ]
    },
    {
      "cell_type": "code",
      "source": [
        "#  Посчитаю точный ответ\n",
        "\n",
        "print(6/(6**4))"
      ],
      "metadata": {
        "colab": {
          "base_uri": "https://localhost:8080/"
        },
        "id": "RmH88bE-GidQ",
        "outputId": "69d361d2-08e0-4ff2-b07e-411da96893b9"
      },
      "execution_count": null,
      "outputs": [
        {
          "output_type": "stream",
          "name": "stdout",
          "text": [
            "0.004629629629629629\n"
          ]
        }
      ]
    },
    {
      "cell_type": "markdown",
      "source": [
        "Различие начинается в 5-ом знаке после запятой"
      ],
      "metadata": {
        "id": "kiRcefyLHfbD"
      }
    },
    {
      "cell_type": "code",
      "source": [
        "#  Задача 2.11\n",
        "\n",
        "#  Колода игральных карт (52 листа, 4 масти по 13 карт в каждой) тщательно перетасована.\n",
        "#  Наудачу берут 6 карт (без возвращения). найти вероятность того,\n",
        "#  что среди этих карт будет ровно 5 карт одной масти.\n",
        "\n",
        "\n",
        "\n",
        "#  Задаем зерно датчика a,\n",
        "#  опция version=2 требует преобразовать а в целое число, если требуется\n",
        "random.seed(a=1234, version=2)\n",
        "\n",
        "# Число экспериментов\n",
        "n_exp = 100000\n",
        "\n",
        "\n",
        "p_0 = 1          #   Вероятность, полученная на предыдущей попытке\n",
        "delta_ = 1.1\n",
        "\n",
        "#   Колода карт, важна только масть\n",
        "deck = [\"s\"] * 13 + [\"h\"] * 13 + [\"d\"] * 13 + [\"c\"] * 13\n",
        "\n",
        "while delta_ >= 0.00001:\n",
        "\n",
        "#  Обнуляем счетчик\n",
        "    count_ = 0\n",
        "\n",
        "    for i in range(n_exp):             # Проводим n_exp экспериментов\n",
        "        a = random.sample(deck, 6)     # Выбираем 6 карт без возвращения\n",
        "\n",
        "        if a.count(\"s\") == 5 or a.count(\"h\") == 5 or a.count(\"d\") == 5 or a.count(\"c\") == 5:\n",
        "            count_ += 1\n",
        "\n",
        "\n",
        "    p= count_/n_exp              # Оцениваем вероятность\n",
        "    delta_ = abs(p - p_0)        # Считаем изменение вероятности\n",
        "    p_0 = p                      # Новая оценка вероятности заменяет старую\n",
        "    n_exp = round(n_exp * 1.1)   # Увеличиваем число экспериментов\n",
        "\n",
        "print(n_exp)\n",
        "print(p)"
      ],
      "metadata": {
        "colab": {
          "base_uri": "https://localhost:8080/"
        },
        "id": "TjGn_lWTHmME",
        "outputId": "2c58e49e-02fd-4b9f-da2d-6a26bb6f3bd7"
      },
      "execution_count": null,
      "outputs": [
        {
          "output_type": "stream",
          "name": "stdout",
          "text": [
            "459498\n",
            "0.009779160931234664\n"
          ]
        }
      ]
    },
    {
      "cell_type": "code",
      "source": [
        "#  Задача 3.16\n",
        "\n",
        "#  На окружности наудачу выбраны три точки A, B и C. Найти\n",
        "#  вероятность того, что треугольник ABC будет:\n",
        "#  б) тупоугольным"
      ],
      "metadata": {
        "id": "k4qY_v4qE7wF"
      },
      "execution_count": null,
      "outputs": []
    },
    {
      "cell_type": "markdown",
      "source": [
        "Предполагается, что точка A находится в верхнем центре круга, затем генерируются 2 параметра, которые представляют, насколько далеко по окружности находятся другие точки (при этом 1 представляет собой полный круг). Затем они сортируются так, чтобы ABC располагалась по часовой стрелке. Затем исследуются длины дуги, чтобы определить, не превышает ли какая-либо 0,5 (что означает, что дуга является как минимум полукругом), что означает, что в ABC должен быть тупой угол."
      ],
      "metadata": {
        "id": "vaUmbzqDHJzp"
      }
    },
    {
      "cell_type": "code",
      "source": [
        "import random\n",
        "\n",
        "runs = 0\n",
        "obtuse = 0\n",
        "\n",
        "for runs in range(100000000):\n",
        "    p1 = random.random()\n",
        "    p2 = random.random()\n",
        "    b = min(p1, p2)\n",
        "    c = max(p1, p2)\n",
        "    aToB = b\n",
        "    bToC = c - b\n",
        "    cToA = 1 - c\n",
        "    if aToB >= 0.5 or bToC >= 0.5 or cToA >= 0.5:\n",
        "        obtuse += 1\n",
        "\n",
        "print(obtuse/runs)"
      ],
      "metadata": {
        "colab": {
          "base_uri": "https://localhost:8080/"
        },
        "id": "rF1LhMHVETru",
        "outputId": "4c575fc9-0ff5-4c52-b3c5-5dabe5748909"
      },
      "execution_count": null,
      "outputs": [
        {
          "output_type": "stream",
          "name": "stdout",
          "text": [
            "0.7500025375000253\n"
          ]
        }
      ]
    }
  ]
}