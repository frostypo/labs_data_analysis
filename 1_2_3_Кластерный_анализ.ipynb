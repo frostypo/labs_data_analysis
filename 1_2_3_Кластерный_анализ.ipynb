{
  "nbformat": 4,
  "nbformat_minor": 0,
  "metadata": {
    "colab": {
      "provenance": [],
      "toc_visible": true
    },
    "kernelspec": {
      "name": "python3",
      "display_name": "Python 3"
    },
    "language_info": {
      "name": "python"
    }
  },
  "cells": [
    {
      "cell_type": "markdown",
      "source": [
        "# **Введение**"
      ],
      "metadata": {
        "id": "rpQQ3baulwWB"
      }
    },
    {
      "cell_type": "markdown",
      "source": [
        "В данном блокноте представлены 3 лабораторные работы по теме \"Кластерный анализ\":\n",
        "1. Иерархический кластерный анализ\n",
        "2. k-means\n",
        "3. DBSCAN"
      ],
      "metadata": {
        "id": "J4krPSJDpHTS"
      }
    },
    {
      "cell_type": "markdown",
      "source": [
        "Лабораторные работы выполнены с использованием данных **\"Экономика городов\"**.\n",
        "Данные описывают экономические условия в 48 городах мира в 1991 году.\n",
        "\n",
        "City (Город): Название города\n",
        "\n",
        "\n",
        "Работа (Work): Взвешенное среднее числа рабочих часов, сосчитанное по 12 профессиям\n",
        "\n",
        "\n",
        "Цена (Price): Индекс цен 112 товаров и услуг, включая арендную плату за\n",
        "жилье (значение для Цюриха взято за 100%)\n",
        "\n",
        "\n",
        "Заработная плата (Salary): Индекс заработной платы за час работы,\n",
        "сосчитанный по 12 профессиям после налогов и вычетов (значение для Цюриха взято за 100%)"
      ],
      "metadata": {
        "id": "P__X4pI0iGcc"
      }
    },
    {
      "cell_type": "markdown",
      "source": [
        "# **1. Иерархический кластерный анализ**"
      ],
      "metadata": {
        "id": "iNinsltUhCHU"
      }
    },
    {
      "cell_type": "code",
      "source": [
        "import numpy as np\n",
        "import pandas as pd\n",
        "\n",
        "import matplotlib\n",
        "import matplotlib.pyplot as plt\n",
        "matplotlib.style.use('ggplot')\n",
        "%matplotlib inline"
      ],
      "metadata": {
        "id": "ZuxGt5zipaKm"
      },
      "execution_count": null,
      "outputs": []
    },
    {
      "cell_type": "code",
      "source": [
        "df = pd.read_csv('Econom_Cities_data.csv', sep=';', index_col=0)\n",
        "df"
      ],
      "metadata": {
        "colab": {
          "base_uri": "https://localhost:8080/",
          "height": 1000
        },
        "id": "opTHnVhK7buq",
        "outputId": "5c1158f1-587b-4361-b8f8-b97a6b955f55"
      },
      "execution_count": null,
      "outputs": [
        {
          "output_type": "execute_result",
          "data": {
            "text/plain": [
              "                Work  Price Salary\n",
              "City                              \n",
              "Amsterdam       1714   65,6     49\n",
              "Athens          1792   53,8   30,4\n",
              "Bogota          2152   37,9   11,5\n",
              "Bombay          2052   30,3    5,3\n",
              "Brussels        1708   73,8   50,5\n",
              "Buenos_Aires    1971   56,1   12,5\n",
              "Cairo          -9999   37,1  -9999\n",
              "Caracas         2041     61   10,9\n",
              "Chicago         1924   73,9   61,9\n",
              "Copenhagen      1717   91,3   62,9\n",
              "Dublin          1759     76   41,4\n",
              "Dusseldorf      1693   78,5   60,2\n",
              "Frankfurt       1650   74,5   60,4\n",
              "Geneva          1880   95,9   90,3\n",
              "Helsinki        1667  113,6   66,6\n",
              "Hong_Kong       2375   63,8   27,8\n",
              "Houston         1978   71,9   46,3\n",
              "Jakarta        -9999   43,6  -9999\n",
              "Johannesburg    1945   51,1     24\n",
              "Kuala_Lumpur    2167   43,5    9,9\n",
              "Lagos           1786   45,2    2,7\n",
              "Lisbon          1742   56,2   18,8\n",
              "London          1737   84,2   46,2\n",
              "Los_Angeles     2068   79,8   65,2\n",
              "Luxembourg      1768   71,1   71,1\n",
              "Madrid          1710   93,8     50\n",
              "Manila          2268     40      4\n",
              "Mexico_City     1944   49,8    5,7\n",
              "Milan           1773     82   53,3\n",
              "Montreal        1827   72,7   56,3\n",
              "Nairobi         1958     45    5,8\n",
              "New_York        1942   83,3   65,8\n",
              "Nicosia         1825   47,9   28,3\n",
              "Oslo            1583  115,5   63,7\n",
              "Panama          2078   49,2   13,8\n",
              "Paris           1744   81,6   45,9\n",
              "Rio_de_Janeiro  1749   46,3   10,5\n",
              "San_Paulo       1856   48,9   11,1\n",
              "Seoul           1842   58,3   32,7\n",
              "Singpore        2042   64,4   16,1\n",
              "Stockholm       1805  111,3   39,2\n",
              "Sydney          1668   70,8   52,1\n",
              "Taipei          2145   84,3   34,5\n",
              "Tel_Aviv        2015   67,3     27\n",
              "Tokyo           1880    115     68\n",
              "Toronto         1888   70,2   58,2\n",
              "Vienna          1780     78   51,3\n",
              "Zurich          1868    100    100"
            ],
            "text/html": [
              "\n",
              "  <div id=\"df-108ef08e-4566-48da-97ba-c8c90f5d5370\">\n",
              "    <div class=\"colab-df-container\">\n",
              "      <div>\n",
              "<style scoped>\n",
              "    .dataframe tbody tr th:only-of-type {\n",
              "        vertical-align: middle;\n",
              "    }\n",
              "\n",
              "    .dataframe tbody tr th {\n",
              "        vertical-align: top;\n",
              "    }\n",
              "\n",
              "    .dataframe thead th {\n",
              "        text-align: right;\n",
              "    }\n",
              "</style>\n",
              "<table border=\"1\" class=\"dataframe\">\n",
              "  <thead>\n",
              "    <tr style=\"text-align: right;\">\n",
              "      <th></th>\n",
              "      <th>Work</th>\n",
              "      <th>Price</th>\n",
              "      <th>Salary</th>\n",
              "    </tr>\n",
              "    <tr>\n",
              "      <th>City</th>\n",
              "      <th></th>\n",
              "      <th></th>\n",
              "      <th></th>\n",
              "    </tr>\n",
              "  </thead>\n",
              "  <tbody>\n",
              "    <tr>\n",
              "      <th>Amsterdam</th>\n",
              "      <td>1714</td>\n",
              "      <td>65,6</td>\n",
              "      <td>49</td>\n",
              "    </tr>\n",
              "    <tr>\n",
              "      <th>Athens</th>\n",
              "      <td>1792</td>\n",
              "      <td>53,8</td>\n",
              "      <td>30,4</td>\n",
              "    </tr>\n",
              "    <tr>\n",
              "      <th>Bogota</th>\n",
              "      <td>2152</td>\n",
              "      <td>37,9</td>\n",
              "      <td>11,5</td>\n",
              "    </tr>\n",
              "    <tr>\n",
              "      <th>Bombay</th>\n",
              "      <td>2052</td>\n",
              "      <td>30,3</td>\n",
              "      <td>5,3</td>\n",
              "    </tr>\n",
              "    <tr>\n",
              "      <th>Brussels</th>\n",
              "      <td>1708</td>\n",
              "      <td>73,8</td>\n",
              "      <td>50,5</td>\n",
              "    </tr>\n",
              "    <tr>\n",
              "      <th>Buenos_Aires</th>\n",
              "      <td>1971</td>\n",
              "      <td>56,1</td>\n",
              "      <td>12,5</td>\n",
              "    </tr>\n",
              "    <tr>\n",
              "      <th>Cairo</th>\n",
              "      <td>-9999</td>\n",
              "      <td>37,1</td>\n",
              "      <td>-9999</td>\n",
              "    </tr>\n",
              "    <tr>\n",
              "      <th>Caracas</th>\n",
              "      <td>2041</td>\n",
              "      <td>61</td>\n",
              "      <td>10,9</td>\n",
              "    </tr>\n",
              "    <tr>\n",
              "      <th>Chicago</th>\n",
              "      <td>1924</td>\n",
              "      <td>73,9</td>\n",
              "      <td>61,9</td>\n",
              "    </tr>\n",
              "    <tr>\n",
              "      <th>Copenhagen</th>\n",
              "      <td>1717</td>\n",
              "      <td>91,3</td>\n",
              "      <td>62,9</td>\n",
              "    </tr>\n",
              "    <tr>\n",
              "      <th>Dublin</th>\n",
              "      <td>1759</td>\n",
              "      <td>76</td>\n",
              "      <td>41,4</td>\n",
              "    </tr>\n",
              "    <tr>\n",
              "      <th>Dusseldorf</th>\n",
              "      <td>1693</td>\n",
              "      <td>78,5</td>\n",
              "      <td>60,2</td>\n",
              "    </tr>\n",
              "    <tr>\n",
              "      <th>Frankfurt</th>\n",
              "      <td>1650</td>\n",
              "      <td>74,5</td>\n",
              "      <td>60,4</td>\n",
              "    </tr>\n",
              "    <tr>\n",
              "      <th>Geneva</th>\n",
              "      <td>1880</td>\n",
              "      <td>95,9</td>\n",
              "      <td>90,3</td>\n",
              "    </tr>\n",
              "    <tr>\n",
              "      <th>Helsinki</th>\n",
              "      <td>1667</td>\n",
              "      <td>113,6</td>\n",
              "      <td>66,6</td>\n",
              "    </tr>\n",
              "    <tr>\n",
              "      <th>Hong_Kong</th>\n",
              "      <td>2375</td>\n",
              "      <td>63,8</td>\n",
              "      <td>27,8</td>\n",
              "    </tr>\n",
              "    <tr>\n",
              "      <th>Houston</th>\n",
              "      <td>1978</td>\n",
              "      <td>71,9</td>\n",
              "      <td>46,3</td>\n",
              "    </tr>\n",
              "    <tr>\n",
              "      <th>Jakarta</th>\n",
              "      <td>-9999</td>\n",
              "      <td>43,6</td>\n",
              "      <td>-9999</td>\n",
              "    </tr>\n",
              "    <tr>\n",
              "      <th>Johannesburg</th>\n",
              "      <td>1945</td>\n",
              "      <td>51,1</td>\n",
              "      <td>24</td>\n",
              "    </tr>\n",
              "    <tr>\n",
              "      <th>Kuala_Lumpur</th>\n",
              "      <td>2167</td>\n",
              "      <td>43,5</td>\n",
              "      <td>9,9</td>\n",
              "    </tr>\n",
              "    <tr>\n",
              "      <th>Lagos</th>\n",
              "      <td>1786</td>\n",
              "      <td>45,2</td>\n",
              "      <td>2,7</td>\n",
              "    </tr>\n",
              "    <tr>\n",
              "      <th>Lisbon</th>\n",
              "      <td>1742</td>\n",
              "      <td>56,2</td>\n",
              "      <td>18,8</td>\n",
              "    </tr>\n",
              "    <tr>\n",
              "      <th>London</th>\n",
              "      <td>1737</td>\n",
              "      <td>84,2</td>\n",
              "      <td>46,2</td>\n",
              "    </tr>\n",
              "    <tr>\n",
              "      <th>Los_Angeles</th>\n",
              "      <td>2068</td>\n",
              "      <td>79,8</td>\n",
              "      <td>65,2</td>\n",
              "    </tr>\n",
              "    <tr>\n",
              "      <th>Luxembourg</th>\n",
              "      <td>1768</td>\n",
              "      <td>71,1</td>\n",
              "      <td>71,1</td>\n",
              "    </tr>\n",
              "    <tr>\n",
              "      <th>Madrid</th>\n",
              "      <td>1710</td>\n",
              "      <td>93,8</td>\n",
              "      <td>50</td>\n",
              "    </tr>\n",
              "    <tr>\n",
              "      <th>Manila</th>\n",
              "      <td>2268</td>\n",
              "      <td>40</td>\n",
              "      <td>4</td>\n",
              "    </tr>\n",
              "    <tr>\n",
              "      <th>Mexico_City</th>\n",
              "      <td>1944</td>\n",
              "      <td>49,8</td>\n",
              "      <td>5,7</td>\n",
              "    </tr>\n",
              "    <tr>\n",
              "      <th>Milan</th>\n",
              "      <td>1773</td>\n",
              "      <td>82</td>\n",
              "      <td>53,3</td>\n",
              "    </tr>\n",
              "    <tr>\n",
              "      <th>Montreal</th>\n",
              "      <td>1827</td>\n",
              "      <td>72,7</td>\n",
              "      <td>56,3</td>\n",
              "    </tr>\n",
              "    <tr>\n",
              "      <th>Nairobi</th>\n",
              "      <td>1958</td>\n",
              "      <td>45</td>\n",
              "      <td>5,8</td>\n",
              "    </tr>\n",
              "    <tr>\n",
              "      <th>New_York</th>\n",
              "      <td>1942</td>\n",
              "      <td>83,3</td>\n",
              "      <td>65,8</td>\n",
              "    </tr>\n",
              "    <tr>\n",
              "      <th>Nicosia</th>\n",
              "      <td>1825</td>\n",
              "      <td>47,9</td>\n",
              "      <td>28,3</td>\n",
              "    </tr>\n",
              "    <tr>\n",
              "      <th>Oslo</th>\n",
              "      <td>1583</td>\n",
              "      <td>115,5</td>\n",
              "      <td>63,7</td>\n",
              "    </tr>\n",
              "    <tr>\n",
              "      <th>Panama</th>\n",
              "      <td>2078</td>\n",
              "      <td>49,2</td>\n",
              "      <td>13,8</td>\n",
              "    </tr>\n",
              "    <tr>\n",
              "      <th>Paris</th>\n",
              "      <td>1744</td>\n",
              "      <td>81,6</td>\n",
              "      <td>45,9</td>\n",
              "    </tr>\n",
              "    <tr>\n",
              "      <th>Rio_de_Janeiro</th>\n",
              "      <td>1749</td>\n",
              "      <td>46,3</td>\n",
              "      <td>10,5</td>\n",
              "    </tr>\n",
              "    <tr>\n",
              "      <th>San_Paulo</th>\n",
              "      <td>1856</td>\n",
              "      <td>48,9</td>\n",
              "      <td>11,1</td>\n",
              "    </tr>\n",
              "    <tr>\n",
              "      <th>Seoul</th>\n",
              "      <td>1842</td>\n",
              "      <td>58,3</td>\n",
              "      <td>32,7</td>\n",
              "    </tr>\n",
              "    <tr>\n",
              "      <th>Singpore</th>\n",
              "      <td>2042</td>\n",
              "      <td>64,4</td>\n",
              "      <td>16,1</td>\n",
              "    </tr>\n",
              "    <tr>\n",
              "      <th>Stockholm</th>\n",
              "      <td>1805</td>\n",
              "      <td>111,3</td>\n",
              "      <td>39,2</td>\n",
              "    </tr>\n",
              "    <tr>\n",
              "      <th>Sydney</th>\n",
              "      <td>1668</td>\n",
              "      <td>70,8</td>\n",
              "      <td>52,1</td>\n",
              "    </tr>\n",
              "    <tr>\n",
              "      <th>Taipei</th>\n",
              "      <td>2145</td>\n",
              "      <td>84,3</td>\n",
              "      <td>34,5</td>\n",
              "    </tr>\n",
              "    <tr>\n",
              "      <th>Tel_Aviv</th>\n",
              "      <td>2015</td>\n",
              "      <td>67,3</td>\n",
              "      <td>27</td>\n",
              "    </tr>\n",
              "    <tr>\n",
              "      <th>Tokyo</th>\n",
              "      <td>1880</td>\n",
              "      <td>115</td>\n",
              "      <td>68</td>\n",
              "    </tr>\n",
              "    <tr>\n",
              "      <th>Toronto</th>\n",
              "      <td>1888</td>\n",
              "      <td>70,2</td>\n",
              "      <td>58,2</td>\n",
              "    </tr>\n",
              "    <tr>\n",
              "      <th>Vienna</th>\n",
              "      <td>1780</td>\n",
              "      <td>78</td>\n",
              "      <td>51,3</td>\n",
              "    </tr>\n",
              "    <tr>\n",
              "      <th>Zurich</th>\n",
              "      <td>1868</td>\n",
              "      <td>100</td>\n",
              "      <td>100</td>\n",
              "    </tr>\n",
              "  </tbody>\n",
              "</table>\n",
              "</div>\n",
              "      <button class=\"colab-df-convert\" onclick=\"convertToInteractive('df-108ef08e-4566-48da-97ba-c8c90f5d5370')\"\n",
              "              title=\"Convert this dataframe to an interactive table.\"\n",
              "              style=\"display:none;\">\n",
              "        \n",
              "  <svg xmlns=\"http://www.w3.org/2000/svg\" height=\"24px\"viewBox=\"0 0 24 24\"\n",
              "       width=\"24px\">\n",
              "    <path d=\"M0 0h24v24H0V0z\" fill=\"none\"/>\n",
              "    <path d=\"M18.56 5.44l.94 2.06.94-2.06 2.06-.94-2.06-.94-.94-2.06-.94 2.06-2.06.94zm-11 1L8.5 8.5l.94-2.06 2.06-.94-2.06-.94L8.5 2.5l-.94 2.06-2.06.94zm10 10l.94 2.06.94-2.06 2.06-.94-2.06-.94-.94-2.06-.94 2.06-2.06.94z\"/><path d=\"M17.41 7.96l-1.37-1.37c-.4-.4-.92-.59-1.43-.59-.52 0-1.04.2-1.43.59L10.3 9.45l-7.72 7.72c-.78.78-.78 2.05 0 2.83L4 21.41c.39.39.9.59 1.41.59.51 0 1.02-.2 1.41-.59l7.78-7.78 2.81-2.81c.8-.78.8-2.07 0-2.86zM5.41 20L4 18.59l7.72-7.72 1.47 1.35L5.41 20z\"/>\n",
              "  </svg>\n",
              "      </button>\n",
              "      \n",
              "  <style>\n",
              "    .colab-df-container {\n",
              "      display:flex;\n",
              "      flex-wrap:wrap;\n",
              "      gap: 12px;\n",
              "    }\n",
              "\n",
              "    .colab-df-convert {\n",
              "      background-color: #E8F0FE;\n",
              "      border: none;\n",
              "      border-radius: 50%;\n",
              "      cursor: pointer;\n",
              "      display: none;\n",
              "      fill: #1967D2;\n",
              "      height: 32px;\n",
              "      padding: 0 0 0 0;\n",
              "      width: 32px;\n",
              "    }\n",
              "\n",
              "    .colab-df-convert:hover {\n",
              "      background-color: #E2EBFA;\n",
              "      box-shadow: 0px 1px 2px rgba(60, 64, 67, 0.3), 0px 1px 3px 1px rgba(60, 64, 67, 0.15);\n",
              "      fill: #174EA6;\n",
              "    }\n",
              "\n",
              "    [theme=dark] .colab-df-convert {\n",
              "      background-color: #3B4455;\n",
              "      fill: #D2E3FC;\n",
              "    }\n",
              "\n",
              "    [theme=dark] .colab-df-convert:hover {\n",
              "      background-color: #434B5C;\n",
              "      box-shadow: 0px 1px 3px 1px rgba(0, 0, 0, 0.15);\n",
              "      filter: drop-shadow(0px 1px 2px rgba(0, 0, 0, 0.3));\n",
              "      fill: #FFFFFF;\n",
              "    }\n",
              "  </style>\n",
              "\n",
              "      <script>\n",
              "        const buttonEl =\n",
              "          document.querySelector('#df-108ef08e-4566-48da-97ba-c8c90f5d5370 button.colab-df-convert');\n",
              "        buttonEl.style.display =\n",
              "          google.colab.kernel.accessAllowed ? 'block' : 'none';\n",
              "\n",
              "        async function convertToInteractive(key) {\n",
              "          const element = document.querySelector('#df-108ef08e-4566-48da-97ba-c8c90f5d5370');\n",
              "          const dataTable =\n",
              "            await google.colab.kernel.invokeFunction('convertToInteractive',\n",
              "                                                     [key], {});\n",
              "          if (!dataTable) return;\n",
              "\n",
              "          const docLinkHtml = 'Like what you see? Visit the ' +\n",
              "            '<a target=\"_blank\" href=https://colab.research.google.com/notebooks/data_table.ipynb>data table notebook</a>'\n",
              "            + ' to learn more about interactive tables.';\n",
              "          element.innerHTML = '';\n",
              "          dataTable['output_type'] = 'display_data';\n",
              "          await google.colab.output.renderOutput(dataTable, element);\n",
              "          const docLink = document.createElement('div');\n",
              "          docLink.innerHTML = docLinkHtml;\n",
              "          element.appendChild(docLink);\n",
              "        }\n",
              "      </script>\n",
              "    </div>\n",
              "  </div>\n",
              "  "
            ]
          },
          "metadata": {},
          "execution_count": 3
        }
      ]
    },
    {
      "cell_type": "markdown",
      "source": [
        "В данных есть выбросы (точнее, пропущенные значения) в строках с городами Cairo и Jakarta. Для дальнейшего анализа я решила их удалить, но вообще можно было бы заменить на средние или медианные значения."
      ],
      "metadata": {
        "id": "Tiz8n8rmlCZ9"
      }
    },
    {
      "cell_type": "code",
      "source": [
        "df = df.drop(index=['Cairo', 'Jakarta'])"
      ],
      "metadata": {
        "id": "slMOt_yimCGq"
      },
      "execution_count": null,
      "outputs": []
    },
    {
      "cell_type": "code",
      "source": [
        "df.info()"
      ],
      "metadata": {
        "colab": {
          "base_uri": "https://localhost:8080/"
        },
        "id": "buKdQWZwrTbD",
        "outputId": "d61d0797-b14f-4a36-8216-5b4438b6b9c3"
      },
      "execution_count": null,
      "outputs": [
        {
          "output_type": "stream",
          "name": "stdout",
          "text": [
            "<class 'pandas.core.frame.DataFrame'>\n",
            "Index: 46 entries, Amsterdam to Zurich\n",
            "Data columns (total 3 columns):\n",
            " #   Column  Non-Null Count  Dtype \n",
            "---  ------  --------------  ----- \n",
            " 0   Work    46 non-null     int64 \n",
            " 1   Price   46 non-null     object\n",
            " 2   Salary  46 non-null     object\n",
            "dtypes: int64(1), object(2)\n",
            "memory usage: 1.4+ KB\n"
          ]
        }
      ]
    },
    {
      "cell_type": "markdown",
      "source": [
        "Заметим, что в данных в колонке с индексом цен и заработной платы присутствует тип данных object. Переведем их во float:"
      ],
      "metadata": {
        "id": "I9bM50gG1llM"
      }
    },
    {
      "cell_type": "code",
      "source": [
        "df['Price'] = df['Price'].astype(str).str.replace(',', '.')\n",
        "df['Price'] = df['Price'].astype(float)\n",
        "\n",
        "df['Salary'] = df['Salary'].astype(str).str.replace(',', '.')\n",
        "df['Salary'] = df['Salary'].astype(float)"
      ],
      "metadata": {
        "id": "bSHZJA0LuaQE"
      },
      "execution_count": null,
      "outputs": []
    },
    {
      "cell_type": "code",
      "source": [
        "df.info()"
      ],
      "metadata": {
        "colab": {
          "base_uri": "https://localhost:8080/"
        },
        "id": "DOatLy4zvvaD",
        "outputId": "3ba799c2-0341-48ae-ef76-70454f2aca85"
      },
      "execution_count": null,
      "outputs": [
        {
          "output_type": "stream",
          "name": "stdout",
          "text": [
            "<class 'pandas.core.frame.DataFrame'>\n",
            "Index: 46 entries, Amsterdam to Zurich\n",
            "Data columns (total 3 columns):\n",
            " #   Column  Non-Null Count  Dtype  \n",
            "---  ------  --------------  -----  \n",
            " 0   Work    46 non-null     int64  \n",
            " 1   Price   46 non-null     float64\n",
            " 2   Salary  46 non-null     float64\n",
            "dtypes: float64(2), int64(1)\n",
            "memory usage: 1.4+ KB\n"
          ]
        }
      ]
    },
    {
      "cell_type": "markdown",
      "source": [
        "Так как наши данные не сопоставимы между собой, то стандартизируем их с помощью функции StandardScaler:"
      ],
      "metadata": {
        "id": "4d-syfTqZLMc"
      }
    },
    {
      "cell_type": "code",
      "source": [
        "from sklearn import preprocessing\n",
        "\n",
        "stand_1 = preprocessing.StandardScaler()\n",
        "stand_1.fit(df)\n",
        "X = stand_1.transform(df)\n",
        "X = pd.DataFrame(X, index=df.index, columns=df.columns)"
      ],
      "metadata": {
        "id": "bcOzgdtSZNxp"
      },
      "execution_count": null,
      "outputs": []
    },
    {
      "cell_type": "code",
      "source": [
        "X.head()"
      ],
      "metadata": {
        "colab": {
          "base_uri": "https://localhost:8080/",
          "height": 237
        },
        "id": "XsOoHSuWvxmN",
        "outputId": "735d705f-00b3-45dd-812e-6ad3251532b0"
      },
      "execution_count": null,
      "outputs": [
        {
          "output_type": "execute_result",
          "data": {
            "text/plain": [
              "               Work     Price    Salary\n",
              "City                                   \n",
              "Amsterdam -0.962166 -0.212712  0.386095\n",
              "Athens    -0.509827 -0.770489 -0.373488\n",
              "Bogota     1.577891 -1.522069 -1.145323\n",
              "Bombay     0.997969 -1.881316 -1.398517\n",
              "Brussels  -0.996961  0.174896  0.447351"
            ],
            "text/html": [
              "\n",
              "  <div id=\"df-c038c14c-9082-44bb-8e6d-40f5433b644a\">\n",
              "    <div class=\"colab-df-container\">\n",
              "      <div>\n",
              "<style scoped>\n",
              "    .dataframe tbody tr th:only-of-type {\n",
              "        vertical-align: middle;\n",
              "    }\n",
              "\n",
              "    .dataframe tbody tr th {\n",
              "        vertical-align: top;\n",
              "    }\n",
              "\n",
              "    .dataframe thead th {\n",
              "        text-align: right;\n",
              "    }\n",
              "</style>\n",
              "<table border=\"1\" class=\"dataframe\">\n",
              "  <thead>\n",
              "    <tr style=\"text-align: right;\">\n",
              "      <th></th>\n",
              "      <th>Work</th>\n",
              "      <th>Price</th>\n",
              "      <th>Salary</th>\n",
              "    </tr>\n",
              "    <tr>\n",
              "      <th>City</th>\n",
              "      <th></th>\n",
              "      <th></th>\n",
              "      <th></th>\n",
              "    </tr>\n",
              "  </thead>\n",
              "  <tbody>\n",
              "    <tr>\n",
              "      <th>Amsterdam</th>\n",
              "      <td>-0.962166</td>\n",
              "      <td>-0.212712</td>\n",
              "      <td>0.386095</td>\n",
              "    </tr>\n",
              "    <tr>\n",
              "      <th>Athens</th>\n",
              "      <td>-0.509827</td>\n",
              "      <td>-0.770489</td>\n",
              "      <td>-0.373488</td>\n",
              "    </tr>\n",
              "    <tr>\n",
              "      <th>Bogota</th>\n",
              "      <td>1.577891</td>\n",
              "      <td>-1.522069</td>\n",
              "      <td>-1.145323</td>\n",
              "    </tr>\n",
              "    <tr>\n",
              "      <th>Bombay</th>\n",
              "      <td>0.997969</td>\n",
              "      <td>-1.881316</td>\n",
              "      <td>-1.398517</td>\n",
              "    </tr>\n",
              "    <tr>\n",
              "      <th>Brussels</th>\n",
              "      <td>-0.996961</td>\n",
              "      <td>0.174896</td>\n",
              "      <td>0.447351</td>\n",
              "    </tr>\n",
              "  </tbody>\n",
              "</table>\n",
              "</div>\n",
              "      <button class=\"colab-df-convert\" onclick=\"convertToInteractive('df-c038c14c-9082-44bb-8e6d-40f5433b644a')\"\n",
              "              title=\"Convert this dataframe to an interactive table.\"\n",
              "              style=\"display:none;\">\n",
              "        \n",
              "  <svg xmlns=\"http://www.w3.org/2000/svg\" height=\"24px\"viewBox=\"0 0 24 24\"\n",
              "       width=\"24px\">\n",
              "    <path d=\"M0 0h24v24H0V0z\" fill=\"none\"/>\n",
              "    <path d=\"M18.56 5.44l.94 2.06.94-2.06 2.06-.94-2.06-.94-.94-2.06-.94 2.06-2.06.94zm-11 1L8.5 8.5l.94-2.06 2.06-.94-2.06-.94L8.5 2.5l-.94 2.06-2.06.94zm10 10l.94 2.06.94-2.06 2.06-.94-2.06-.94-.94-2.06-.94 2.06-2.06.94z\"/><path d=\"M17.41 7.96l-1.37-1.37c-.4-.4-.92-.59-1.43-.59-.52 0-1.04.2-1.43.59L10.3 9.45l-7.72 7.72c-.78.78-.78 2.05 0 2.83L4 21.41c.39.39.9.59 1.41.59.51 0 1.02-.2 1.41-.59l7.78-7.78 2.81-2.81c.8-.78.8-2.07 0-2.86zM5.41 20L4 18.59l7.72-7.72 1.47 1.35L5.41 20z\"/>\n",
              "  </svg>\n",
              "      </button>\n",
              "      \n",
              "  <style>\n",
              "    .colab-df-container {\n",
              "      display:flex;\n",
              "      flex-wrap:wrap;\n",
              "      gap: 12px;\n",
              "    }\n",
              "\n",
              "    .colab-df-convert {\n",
              "      background-color: #E8F0FE;\n",
              "      border: none;\n",
              "      border-radius: 50%;\n",
              "      cursor: pointer;\n",
              "      display: none;\n",
              "      fill: #1967D2;\n",
              "      height: 32px;\n",
              "      padding: 0 0 0 0;\n",
              "      width: 32px;\n",
              "    }\n",
              "\n",
              "    .colab-df-convert:hover {\n",
              "      background-color: #E2EBFA;\n",
              "      box-shadow: 0px 1px 2px rgba(60, 64, 67, 0.3), 0px 1px 3px 1px rgba(60, 64, 67, 0.15);\n",
              "      fill: #174EA6;\n",
              "    }\n",
              "\n",
              "    [theme=dark] .colab-df-convert {\n",
              "      background-color: #3B4455;\n",
              "      fill: #D2E3FC;\n",
              "    }\n",
              "\n",
              "    [theme=dark] .colab-df-convert:hover {\n",
              "      background-color: #434B5C;\n",
              "      box-shadow: 0px 1px 3px 1px rgba(0, 0, 0, 0.15);\n",
              "      filter: drop-shadow(0px 1px 2px rgba(0, 0, 0, 0.3));\n",
              "      fill: #FFFFFF;\n",
              "    }\n",
              "  </style>\n",
              "\n",
              "      <script>\n",
              "        const buttonEl =\n",
              "          document.querySelector('#df-c038c14c-9082-44bb-8e6d-40f5433b644a button.colab-df-convert');\n",
              "        buttonEl.style.display =\n",
              "          google.colab.kernel.accessAllowed ? 'block' : 'none';\n",
              "\n",
              "        async function convertToInteractive(key) {\n",
              "          const element = document.querySelector('#df-c038c14c-9082-44bb-8e6d-40f5433b644a');\n",
              "          const dataTable =\n",
              "            await google.colab.kernel.invokeFunction('convertToInteractive',\n",
              "                                                     [key], {});\n",
              "          if (!dataTable) return;\n",
              "\n",
              "          const docLinkHtml = 'Like what you see? Visit the ' +\n",
              "            '<a target=\"_blank\" href=https://colab.research.google.com/notebooks/data_table.ipynb>data table notebook</a>'\n",
              "            + ' to learn more about interactive tables.';\n",
              "          element.innerHTML = '';\n",
              "          dataTable['output_type'] = 'display_data';\n",
              "          await google.colab.output.renderOutput(dataTable, element);\n",
              "          const docLink = document.createElement('div');\n",
              "          docLink.innerHTML = docLinkHtml;\n",
              "          element.appendChild(docLink);\n",
              "        }\n",
              "      </script>\n",
              "    </div>\n",
              "  </div>\n",
              "  "
            ]
          },
          "metadata": {},
          "execution_count": 9
        }
      ]
    },
    {
      "cell_type": "markdown",
      "source": [
        "Теперь можно перейти к проведению иерархического кластерного анализа"
      ],
      "metadata": {
        "id": "lu-c52YJ3feG"
      }
    },
    {
      "cell_type": "code",
      "source": [
        "#  Активирую 3 процедуры иерархического кластерного анализа\n",
        "\n",
        "from scipy.cluster.hierarchy import dendrogram, linkage, fcluster"
      ],
      "metadata": {
        "id": "QQZvkKH_yAg5"
      },
      "execution_count": null,
      "outputs": []
    },
    {
      "cell_type": "code",
      "source": [
        "#  Строю дендрограмму\n",
        "\n",
        "link = linkage(X, 'ward', 'euclidean')\n",
        "fig = plt.figure(figsize=(15, 5))\n",
        "dn = dendrogram(link,\n",
        "                labels=X.index.tolist(),\n",
        "                color_threshold = -1,\n",
        "                leaf_font_size = 12)"
      ],
      "metadata": {
        "colab": {
          "base_uri": "https://localhost:8080/",
          "height": 397
        },
        "id": "FEMOo4gAwmIq",
        "outputId": "58ffb3fc-2344-44b9-f756-479855825080"
      },
      "execution_count": null,
      "outputs": [
        {
          "output_type": "display_data",
          "data": {
            "text/plain": [
              "<Figure size 1080x360 with 1 Axes>"
            ],
            "image/png": "[encoded data removed]"
          },
          "metadata": {
            "needs_background": "light"
          }
        }
      ]
    },
    {
      "cell_type": "markdown",
      "source": [
        "Определю оптимальное количество кластеров с помощью графика \"Каменистая осыпь\""
      ],
      "metadata": {
        "id": "mroLejYy9ELG"
      }
    },
    {
      "cell_type": "code",
      "source": [
        "dist = link[:, 2]\n",
        "dist"
      ],
      "metadata": {
        "colab": {
          "base_uri": "https://localhost:8080/"
        },
        "id": "HwpeZMf_-Acp",
        "outputId": "33fa99ae-42d5-4875-b901-0d8192685241"
      },
      "execution_count": null,
      "outputs": [
        {
          "output_type": "execute_result",
          "data": {
            "text/plain": [
              "array([ 0.13000932,  0.20992596,  0.24101549,  0.26638013,  0.27962161,\n",
              "        0.28619313,  0.31145704,  0.31305006,  0.3489377 ,  0.38756772,\n",
              "        0.419298  ,  0.44645167,  0.45306282,  0.4905399 ,  0.50930475,\n",
              "        0.54142314,  0.54694673,  0.55560294,  0.6525312 ,  0.70695573,\n",
              "        0.71322146,  0.73106836,  0.80923253,  0.81996004,  0.83440954,\n",
              "        0.83591396,  0.92010068,  1.00797757,  1.07317494,  1.09798639,\n",
              "        1.18557963,  1.2661125 ,  1.34552527,  1.5346713 ,  1.60218207,\n",
              "        1.65009621,  1.67120837,  1.9067302 ,  2.91093293,  2.99369803,\n",
              "        3.40166518,  3.65965497,  4.85967779,  5.06109685, 12.40027153])"
            ]
          },
          "metadata": {},
          "execution_count": 12
        }
      ]
    },
    {
      "cell_type": "code",
      "source": [
        "dist_rev = dist[::-1]\n",
        "idxs = range(1, len(dist) + 1)\n",
        "plt.plot(idxs, dist_rev, marker='o')\n",
        "plt.title('Расстояние между объединяемыми кластерами')\n",
        "plt.xlabel('Шаг объединения')\n",
        "plt.ylabel('Расстояние')"
      ],
      "metadata": {
        "colab": {
          "base_uri": "https://localhost:8080/",
          "height": 317
        },
        "id": "XARqHWzRJALh",
        "outputId": "0a94b53f-126c-42cf-adc3-dd564051e551"
      },
      "execution_count": null,
      "outputs": [
        {
          "output_type": "execute_result",
          "data": {
            "text/plain": [
              "Text(0, 0.5, 'Расстояние')"
            ]
          },
          "metadata": {},
          "execution_count": 13
        },
        {
          "output_type": "display_data",
          "data": {
            "text/plain": [
              "<Figure size 432x288 with 1 Axes>"
            ],
            "image/png": "[encoded data removed]"
          },
          "metadata": {
            "needs_background": "light"
          }
        }
      ]
    },
    {
      "cell_type": "markdown",
      "source": [
        "Определим, что у нас 3 кластера и выведем, в какой из кластеров попал каждый город"
      ],
      "metadata": {
        "id": "7kjdvKjeQ-0W"
      }
    },
    {
      "cell_type": "code",
      "source": [
        "df['cluster'] = fcluster(link, 5, criterion='distance')"
      ],
      "metadata": {
        "id": "HOrYN8quP1Fr"
      },
      "execution_count": null,
      "outputs": []
    },
    {
      "cell_type": "code",
      "source": [
        "df['cluster'].sort_values()"
      ],
      "metadata": {
        "colab": {
          "base_uri": "https://localhost:8080/"
        },
        "id": "JNHvZsruQErm",
        "outputId": "9368e0da-f6bf-461b-900f-698337f94ea2"
      },
      "execution_count": null,
      "outputs": [
        {
          "output_type": "execute_result",
          "data": {
            "text/plain": [
              "City\n",
              "Amsterdam         1\n",
              "Toronto           1\n",
              "Tokyo             1\n",
              "Sydney            1\n",
              "Stockholm         1\n",
              "Paris             1\n",
              "Oslo              1\n",
              "New_York          1\n",
              "Montreal          1\n",
              "Milan             1\n",
              "Madrid            1\n",
              "Vienna            1\n",
              "Los_Angeles       1\n",
              "London            1\n",
              "Houston           1\n",
              "Luxembourg        1\n",
              "Zurich            1\n",
              "Brussels          1\n",
              "Helsinki          1\n",
              "Geneva            1\n",
              "Frankfurt         1\n",
              "Dusseldorf        1\n",
              "Dublin            1\n",
              "Copenhagen        1\n",
              "Chicago           1\n",
              "Athens            2\n",
              "Seoul             2\n",
              "San_Paulo         2\n",
              "Rio_de_Janeiro    2\n",
              "Nicosia           2\n",
              "Lisbon            2\n",
              "Lagos             2\n",
              "Hong_Kong         3\n",
              "Caracas           3\n",
              "Panama            3\n",
              "Buenos_Aires      3\n",
              "Mexico_City       3\n",
              "Manila            3\n",
              "Singpore          3\n",
              "Bombay            3\n",
              "Taipei            3\n",
              "Tel_Aviv          3\n",
              "Bogota            3\n",
              "Kuala_Lumpur      3\n",
              "Nairobi           3\n",
              "Johannesburg      3\n",
              "Name: cluster, dtype: int32"
            ]
          },
          "metadata": {},
          "execution_count": 15
        }
      ]
    },
    {
      "cell_type": "code",
      "source": [
        "df.groupby('cluster').mean()"
      ],
      "metadata": {
        "colab": {
          "base_uri": "https://localhost:8080/",
          "height": 175
        },
        "id": "17ldtol8cKAt",
        "outputId": "b791bcaa-4643-427a-b27f-f5c040629720"
      },
      "execution_count": null,
      "outputs": [
        {
          "output_type": "execute_result",
          "data": {
            "text/plain": [
              "                Work      Price     Salary\n",
              "cluster                                   \n",
              "1        1789.240000  84.972000  59.032000\n",
              "2        1798.857143  50.942857  19.214286\n",
              "3        2082.357143  53.121429  14.914286"
            ],
            "text/html": [
              "\n",
              "  <div id=\"df-c9603436-c023-4fcd-8e09-38c74c62c5b6\">\n",
              "    <div class=\"colab-df-container\">\n",
              "      <div>\n",
              "<style scoped>\n",
              "    .dataframe tbody tr th:only-of-type {\n",
              "        vertical-align: middle;\n",
              "    }\n",
              "\n",
              "    .dataframe tbody tr th {\n",
              "        vertical-align: top;\n",
              "    }\n",
              "\n",
              "    .dataframe thead th {\n",
              "        text-align: right;\n",
              "    }\n",
              "</style>\n",
              "<table border=\"1\" class=\"dataframe\">\n",
              "  <thead>\n",
              "    <tr style=\"text-align: right;\">\n",
              "      <th></th>\n",
              "      <th>Work</th>\n",
              "      <th>Price</th>\n",
              "      <th>Salary</th>\n",
              "    </tr>\n",
              "    <tr>\n",
              "      <th>cluster</th>\n",
              "      <th></th>\n",
              "      <th></th>\n",
              "      <th></th>\n",
              "    </tr>\n",
              "  </thead>\n",
              "  <tbody>\n",
              "    <tr>\n",
              "      <th>1</th>\n",
              "      <td>1789.240000</td>\n",
              "      <td>84.972000</td>\n",
              "      <td>59.032000</td>\n",
              "    </tr>\n",
              "    <tr>\n",
              "      <th>2</th>\n",
              "      <td>1798.857143</td>\n",
              "      <td>50.942857</td>\n",
              "      <td>19.214286</td>\n",
              "    </tr>\n",
              "    <tr>\n",
              "      <th>3</th>\n",
              "      <td>2082.357143</td>\n",
              "      <td>53.121429</td>\n",
              "      <td>14.914286</td>\n",
              "    </tr>\n",
              "  </tbody>\n",
              "</table>\n",
              "</div>\n",
              "      <button class=\"colab-df-convert\" onclick=\"convertToInteractive('df-c9603436-c023-4fcd-8e09-38c74c62c5b6')\"\n",
              "              title=\"Convert this dataframe to an interactive table.\"\n",
              "              style=\"display:none;\">\n",
              "        \n",
              "  <svg xmlns=\"http://www.w3.org/2000/svg\" height=\"24px\"viewBox=\"0 0 24 24\"\n",
              "       width=\"24px\">\n",
              "    <path d=\"M0 0h24v24H0V0z\" fill=\"none\"/>\n",
              "    <path d=\"M18.56 5.44l.94 2.06.94-2.06 2.06-.94-2.06-.94-.94-2.06-.94 2.06-2.06.94zm-11 1L8.5 8.5l.94-2.06 2.06-.94-2.06-.94L8.5 2.5l-.94 2.06-2.06.94zm10 10l.94 2.06.94-2.06 2.06-.94-2.06-.94-.94-2.06-.94 2.06-2.06.94z\"/><path d=\"M17.41 7.96l-1.37-1.37c-.4-.4-.92-.59-1.43-.59-.52 0-1.04.2-1.43.59L10.3 9.45l-7.72 7.72c-.78.78-.78 2.05 0 2.83L4 21.41c.39.39.9.59 1.41.59.51 0 1.02-.2 1.41-.59l7.78-7.78 2.81-2.81c.8-.78.8-2.07 0-2.86zM5.41 20L4 18.59l7.72-7.72 1.47 1.35L5.41 20z\"/>\n",
              "  </svg>\n",
              "      </button>\n",
              "      \n",
              "  <style>\n",
              "    .colab-df-container {\n",
              "      display:flex;\n",
              "      flex-wrap:wrap;\n",
              "      gap: 12px;\n",
              "    }\n",
              "\n",
              "    .colab-df-convert {\n",
              "      background-color: #E8F0FE;\n",
              "      border: none;\n",
              "      border-radius: 50%;\n",
              "      cursor: pointer;\n",
              "      display: none;\n",
              "      fill: #1967D2;\n",
              "      height: 32px;\n",
              "      padding: 0 0 0 0;\n",
              "      width: 32px;\n",
              "    }\n",
              "\n",
              "    .colab-df-convert:hover {\n",
              "      background-color: #E2EBFA;\n",
              "      box-shadow: 0px 1px 2px rgba(60, 64, 67, 0.3), 0px 1px 3px 1px rgba(60, 64, 67, 0.15);\n",
              "      fill: #174EA6;\n",
              "    }\n",
              "\n",
              "    [theme=dark] .colab-df-convert {\n",
              "      background-color: #3B4455;\n",
              "      fill: #D2E3FC;\n",
              "    }\n",
              "\n",
              "    [theme=dark] .colab-df-convert:hover {\n",
              "      background-color: #434B5C;\n",
              "      box-shadow: 0px 1px 3px 1px rgba(0, 0, 0, 0.15);\n",
              "      filter: drop-shadow(0px 1px 2px rgba(0, 0, 0, 0.3));\n",
              "      fill: #FFFFFF;\n",
              "    }\n",
              "  </style>\n",
              "\n",
              "      <script>\n",
              "        const buttonEl =\n",
              "          document.querySelector('#df-c9603436-c023-4fcd-8e09-38c74c62c5b6 button.colab-df-convert');\n",
              "        buttonEl.style.display =\n",
              "          google.colab.kernel.accessAllowed ? 'block' : 'none';\n",
              "\n",
              "        async function convertToInteractive(key) {\n",
              "          const element = document.querySelector('#df-c9603436-c023-4fcd-8e09-38c74c62c5b6');\n",
              "          const dataTable =\n",
              "            await google.colab.kernel.invokeFunction('convertToInteractive',\n",
              "                                                     [key], {});\n",
              "          if (!dataTable) return;\n",
              "\n",
              "          const docLinkHtml = 'Like what you see? Visit the ' +\n",
              "            '<a target=\"_blank\" href=https://colab.research.google.com/notebooks/data_table.ipynb>data table notebook</a>'\n",
              "            + ' to learn more about interactive tables.';\n",
              "          element.innerHTML = '';\n",
              "          dataTable['output_type'] = 'display_data';\n",
              "          await google.colab.output.renderOutput(dataTable, element);\n",
              "          const docLink = document.createElement('div');\n",
              "          docLink.innerHTML = docLinkHtml;\n",
              "          element.appendChild(docLink);\n",
              "        }\n",
              "      </script>\n",
              "    </div>\n",
              "  </div>\n",
              "  "
            ]
          },
          "metadata": {},
          "execution_count": 16
        }
      ]
    },
    {
      "cell_type": "code",
      "source": [
        "df.groupby('cluster').size()"
      ],
      "metadata": {
        "colab": {
          "base_uri": "https://localhost:8080/"
        },
        "id": "QXFtksIDgVLQ",
        "outputId": "4139d534-5ca3-4d15-d278-0236f36471ff"
      },
      "execution_count": null,
      "outputs": [
        {
          "output_type": "execute_result",
          "data": {
            "text/plain": [
              "cluster\n",
              "1    25\n",
              "2     7\n",
              "3    14\n",
              "dtype: int64"
            ]
          },
          "metadata": {},
          "execution_count": 17
        }
      ]
    },
    {
      "cell_type": "markdown",
      "source": [
        "Таким образом, в первый кластер попали наиболее экономически развитые города, во второй и третий - города с низкой заработной платой, также третий кластер отличается наибольшим количеством рабочих часов."
      ],
      "metadata": {
        "id": "zgd8y7dqhhOO"
      }
    },
    {
      "cell_type": "markdown",
      "source": [
        "# **2. Метод к-средних (k-means)**"
      ],
      "metadata": {
        "id": "PpheY1UeRqMX"
      }
    },
    {
      "cell_type": "code",
      "source": [
        "#  Буду использовать процедуру KMeans из библиотеки sklearn\n",
        "\n",
        "from sklearn.cluster import KMeans"
      ],
      "metadata": {
        "id": "XJz9sK4euLsc"
      },
      "execution_count": null,
      "outputs": []
    },
    {
      "cell_type": "markdown",
      "source": [
        "Определю оптимальное количество кластеров с помощью графика \"Каменистая осыпь\""
      ],
      "metadata": {
        "id": "h59PcNGaw_ex"
      }
    },
    {
      "cell_type": "code",
      "source": [
        "K = range(1, 11)\n",
        "\n",
        "# Вычисляем значения критерия качества для разного числа кластеров\n",
        "models = [KMeans(n_clusters=k, random_state=42).fit(X) for k in K]\n",
        "dist = [model.inertia_ for model in models]\n",
        "\n",
        "# Строим график каменистая осыпь\n",
        "plt.plot(K, dist, marker='o')\n",
        "plt.xlabel('Число кластеров')\n",
        "plt.ylabel('Сумма квадратов расстояний')\n",
        "plt.title('Каменистая осыпь. Ищем оптимальное k')\n",
        "plt.show()"
      ],
      "metadata": {
        "colab": {
          "base_uri": "https://localhost:8080/",
          "height": 299
        },
        "id": "R74ZVQKlxBQN",
        "outputId": "14bdd6fc-bdd1-4ce9-b186-d89cead0a3c1"
      },
      "execution_count": null,
      "outputs": [
        {
          "output_type": "display_data",
          "data": {
            "text/plain": [
              "<Figure size 432x288 with 1 Axes>"
            ],
            "image/png": "[encoded data removed]"
          },
          "metadata": {
            "needs_background": "light"
          }
        }
      ]
    },
    {
      "cell_type": "markdown",
      "source": [
        "Определю, что у нас 3 кластера. Строю модель:"
      ],
      "metadata": {
        "id": "3gSsg66ey7MZ"
      }
    },
    {
      "cell_type": "code",
      "source": [
        "model = KMeans(n_clusters=3, random_state=42)\n",
        "model.fit(X)\n",
        "df['cluster'] = model.labels_\n",
        "df.groupby('cluster').mean()"
      ],
      "metadata": {
        "colab": {
          "base_uri": "https://localhost:8080/",
          "height": 175
        },
        "id": "HBIYmbYsy8qp",
        "outputId": "51fbc8ab-dd91-4ef2-cd28-a81fc508b4db"
      },
      "execution_count": null,
      "outputs": [
        {
          "output_type": "execute_result",
          "data": {
            "text/plain": [
              "                Work      Price     Salary\n",
              "cluster                                   \n",
              "0        2133.500000  54.170000  16.080000\n",
              "1        1789.240000  84.972000  59.032000\n",
              "2        1855.454545  50.781818  16.590909"
            ],
            "text/html": [
              "\n",
              "  <div id=\"df-fb97d01a-5d1e-437f-9e79-4f0281fd82b8\">\n",
              "    <div class=\"colab-df-container\">\n",
              "      <div>\n",
              "<style scoped>\n",
              "    .dataframe tbody tr th:only-of-type {\n",
              "        vertical-align: middle;\n",
              "    }\n",
              "\n",
              "    .dataframe tbody tr th {\n",
              "        vertical-align: top;\n",
              "    }\n",
              "\n",
              "    .dataframe thead th {\n",
              "        text-align: right;\n",
              "    }\n",
              "</style>\n",
              "<table border=\"1\" class=\"dataframe\">\n",
              "  <thead>\n",
              "    <tr style=\"text-align: right;\">\n",
              "      <th></th>\n",
              "      <th>Work</th>\n",
              "      <th>Price</th>\n",
              "      <th>Salary</th>\n",
              "    </tr>\n",
              "    <tr>\n",
              "      <th>cluster</th>\n",
              "      <th></th>\n",
              "      <th></th>\n",
              "      <th></th>\n",
              "    </tr>\n",
              "  </thead>\n",
              "  <tbody>\n",
              "    <tr>\n",
              "      <th>0</th>\n",
              "      <td>2133.500000</td>\n",
              "      <td>54.170000</td>\n",
              "      <td>16.080000</td>\n",
              "    </tr>\n",
              "    <tr>\n",
              "      <th>1</th>\n",
              "      <td>1789.240000</td>\n",
              "      <td>84.972000</td>\n",
              "      <td>59.032000</td>\n",
              "    </tr>\n",
              "    <tr>\n",
              "      <th>2</th>\n",
              "      <td>1855.454545</td>\n",
              "      <td>50.781818</td>\n",
              "      <td>16.590909</td>\n",
              "    </tr>\n",
              "  </tbody>\n",
              "</table>\n",
              "</div>\n",
              "      <button class=\"colab-df-convert\" onclick=\"convertToInteractive('df-fb97d01a-5d1e-437f-9e79-4f0281fd82b8')\"\n",
              "              title=\"Convert this dataframe to an interactive table.\"\n",
              "              style=\"display:none;\">\n",
              "        \n",
              "  <svg xmlns=\"http://www.w3.org/2000/svg\" height=\"24px\"viewBox=\"0 0 24 24\"\n",
              "       width=\"24px\">\n",
              "    <path d=\"M0 0h24v24H0V0z\" fill=\"none\"/>\n",
              "    <path d=\"M18.56 5.44l.94 2.06.94-2.06 2.06-.94-2.06-.94-.94-2.06-.94 2.06-2.06.94zm-11 1L8.5 8.5l.94-2.06 2.06-.94-2.06-.94L8.5 2.5l-.94 2.06-2.06.94zm10 10l.94 2.06.94-2.06 2.06-.94-2.06-.94-.94-2.06-.94 2.06-2.06.94z\"/><path d=\"M17.41 7.96l-1.37-1.37c-.4-.4-.92-.59-1.43-.59-.52 0-1.04.2-1.43.59L10.3 9.45l-7.72 7.72c-.78.78-.78 2.05 0 2.83L4 21.41c.39.39.9.59 1.41.59.51 0 1.02-.2 1.41-.59l7.78-7.78 2.81-2.81c.8-.78.8-2.07 0-2.86zM5.41 20L4 18.59l7.72-7.72 1.47 1.35L5.41 20z\"/>\n",
              "  </svg>\n",
              "      </button>\n",
              "      \n",
              "  <style>\n",
              "    .colab-df-container {\n",
              "      display:flex;\n",
              "      flex-wrap:wrap;\n",
              "      gap: 12px;\n",
              "    }\n",
              "\n",
              "    .colab-df-convert {\n",
              "      background-color: #E8F0FE;\n",
              "      border: none;\n",
              "      border-radius: 50%;\n",
              "      cursor: pointer;\n",
              "      display: none;\n",
              "      fill: #1967D2;\n",
              "      height: 32px;\n",
              "      padding: 0 0 0 0;\n",
              "      width: 32px;\n",
              "    }\n",
              "\n",
              "    .colab-df-convert:hover {\n",
              "      background-color: #E2EBFA;\n",
              "      box-shadow: 0px 1px 2px rgba(60, 64, 67, 0.3), 0px 1px 3px 1px rgba(60, 64, 67, 0.15);\n",
              "      fill: #174EA6;\n",
              "    }\n",
              "\n",
              "    [theme=dark] .colab-df-convert {\n",
              "      background-color: #3B4455;\n",
              "      fill: #D2E3FC;\n",
              "    }\n",
              "\n",
              "    [theme=dark] .colab-df-convert:hover {\n",
              "      background-color: #434B5C;\n",
              "      box-shadow: 0px 1px 3px 1px rgba(0, 0, 0, 0.15);\n",
              "      filter: drop-shadow(0px 1px 2px rgba(0, 0, 0, 0.3));\n",
              "      fill: #FFFFFF;\n",
              "    }\n",
              "  </style>\n",
              "\n",
              "      <script>\n",
              "        const buttonEl =\n",
              "          document.querySelector('#df-fb97d01a-5d1e-437f-9e79-4f0281fd82b8 button.colab-df-convert');\n",
              "        buttonEl.style.display =\n",
              "          google.colab.kernel.accessAllowed ? 'block' : 'none';\n",
              "\n",
              "        async function convertToInteractive(key) {\n",
              "          const element = document.querySelector('#df-fb97d01a-5d1e-437f-9e79-4f0281fd82b8');\n",
              "          const dataTable =\n",
              "            await google.colab.kernel.invokeFunction('convertToInteractive',\n",
              "                                                     [key], {});\n",
              "          if (!dataTable) return;\n",
              "\n",
              "          const docLinkHtml = 'Like what you see? Visit the ' +\n",
              "            '<a target=\"_blank\" href=https://colab.research.google.com/notebooks/data_table.ipynb>data table notebook</a>'\n",
              "            + ' to learn more about interactive tables.';\n",
              "          element.innerHTML = '';\n",
              "          dataTable['output_type'] = 'display_data';\n",
              "          await google.colab.output.renderOutput(dataTable, element);\n",
              "          const docLink = document.createElement('div');\n",
              "          docLink.innerHTML = docLinkHtml;\n",
              "          element.appendChild(docLink);\n",
              "        }\n",
              "      </script>\n",
              "    </div>\n",
              "  </div>\n",
              "  "
            ]
          },
          "metadata": {},
          "execution_count": 20
        }
      ]
    },
    {
      "cell_type": "code",
      "source": [
        "df.groupby('cluster').size()"
      ],
      "metadata": {
        "colab": {
          "base_uri": "https://localhost:8080/"
        },
        "id": "dlhMuSKCh7IB",
        "outputId": "7faa171a-2840-4b30-9589-ab2effa4218f"
      },
      "execution_count": null,
      "outputs": [
        {
          "output_type": "execute_result",
          "data": {
            "text/plain": [
              "cluster\n",
              "0    10\n",
              "1    25\n",
              "2    11\n",
              "dtype: int64"
            ]
          },
          "metadata": {},
          "execution_count": 21
        }
      ]
    },
    {
      "cell_type": "code",
      "source": [
        "#  Какие города попали в кластер 0?\n",
        "df[df['cluster']==0].index.values"
      ],
      "metadata": {
        "colab": {
          "base_uri": "https://localhost:8080/"
        },
        "id": "VOmRT60ufZas",
        "outputId": "35a70edd-5d5f-409b-c2a9-f893b35b70c1"
      },
      "execution_count": null,
      "outputs": [
        {
          "output_type": "execute_result",
          "data": {
            "text/plain": [
              "array(['Bogota', 'Bombay', 'Caracas', 'Hong_Kong', 'Kuala_Lumpur',\n",
              "       'Manila', 'Panama', 'Singpore', 'Taipei', 'Tel_Aviv'], dtype=object)"
            ]
          },
          "metadata": {},
          "execution_count": 22
        }
      ]
    },
    {
      "cell_type": "code",
      "source": [
        "#  Какие города попали в кластер 1?\n",
        "df[df['cluster']==1].index.values"
      ],
      "metadata": {
        "colab": {
          "base_uri": "https://localhost:8080/"
        },
        "id": "ua7zU_Dxfmer",
        "outputId": "248ca699-81bf-4360-d6d5-32db52bbb899"
      },
      "execution_count": null,
      "outputs": [
        {
          "output_type": "execute_result",
          "data": {
            "text/plain": [
              "array(['Amsterdam', 'Brussels', 'Chicago', 'Copenhagen', 'Dublin',\n",
              "       'Dusseldorf', 'Frankfurt', 'Geneva', 'Helsinki', 'Houston',\n",
              "       'London', 'Los_Angeles', 'Luxembourg', 'Madrid', 'Milan',\n",
              "       'Montreal', 'New_York', 'Oslo', 'Paris', 'Stockholm', 'Sydney',\n",
              "       'Tokyo', 'Toronto', 'Vienna', 'Zurich'], dtype=object)"
            ]
          },
          "metadata": {},
          "execution_count": 23
        }
      ]
    },
    {
      "cell_type": "code",
      "source": [
        "#  Какие города попали в кластер 2?\n",
        "df[df['cluster']==2].index.values"
      ],
      "metadata": {
        "colab": {
          "base_uri": "https://localhost:8080/"
        },
        "id": "K1dIOkLOfyfI",
        "outputId": "f1e30478-d3cc-4c8b-fa96-45cf33f1d46b"
      },
      "execution_count": null,
      "outputs": [
        {
          "output_type": "execute_result",
          "data": {
            "text/plain": [
              "array(['Athens', 'Buenos_Aires', 'Johannesburg', 'Lagos', 'Lisbon',\n",
              "       'Mexico_City', 'Nairobi', 'Nicosia', 'Rio_de_Janeiro', 'San_Paulo',\n",
              "       'Seoul'], dtype=object)"
            ]
          },
          "metadata": {},
          "execution_count": 24
        }
      ]
    },
    {
      "cell_type": "markdown",
      "source": [
        "Таким образом, метод к-средих почти сошелся с иерархическим кластерным анализом. Кластер с наиболее благоприятными условиями труда не поменялся. Остальные два кластера отличаются теперь в большей степени количеством рабочих часов; заработная плата, в отличие от иерархического кластерного анализа, тут примерно одинаковая."
      ],
      "metadata": {
        "id": "8b65P5sIeW7S"
      }
    },
    {
      "cell_type": "markdown",
      "source": [
        "# **3. Кластеризация методом DBSCAN**"
      ],
      "metadata": {
        "id": "-m7eiKX4lxb8"
      }
    },
    {
      "cell_type": "code",
      "source": [
        "from sklearn.cluster import DBSCAN"
      ],
      "metadata": {
        "id": "5WXgcrINl4aX"
      },
      "execution_count": null,
      "outputs": []
    },
    {
      "cell_type": "markdown",
      "source": [
        "Начинаю перебирать разные значения радиуса и количества точек"
      ],
      "metadata": {
        "id": "w4_bDJDPhgY5"
      }
    },
    {
      "cell_type": "code",
      "source": [
        "dbscan_1 = DBSCAN(eps=0.5, metric='euclidean', min_samples=5)\n",
        "\n",
        "dbscan_1.fit(X)\n",
        "\n",
        "unique, counts = np.unique(dbscan_1.labels_, return_counts=True)\n",
        "print(np.asarray((unique, counts)).T)"
      ],
      "metadata": {
        "colab": {
          "base_uri": "https://localhost:8080/"
        },
        "id": "fQZguBo9jCQE",
        "outputId": "a840601c-a34b-4765-b271-4c4d39d1c9b7"
      },
      "execution_count": null,
      "outputs": [
        {
          "output_type": "stream",
          "name": "stdout",
          "text": [
            "[[-1 36]\n",
            " [ 0 10]]\n"
          ]
        }
      ]
    },
    {
      "cell_type": "markdown",
      "source": [
        "Получилось 36 выбросов и 1 кластер. Перебираю дальше"
      ],
      "metadata": {
        "id": "ds0wWsW1jyMz"
      }
    },
    {
      "cell_type": "code",
      "source": [
        "dbscan_1 = DBSCAN(eps=1, metric='euclidean', min_samples=7)\n",
        "\n",
        "dbscan_1.fit(X)\n",
        "\n",
        "unique, counts = np.unique(dbscan_1.labels_, return_counts=True)\n",
        "print(np.asarray((unique, counts)).T)"
      ],
      "metadata": {
        "colab": {
          "base_uri": "https://localhost:8080/"
        },
        "id": "stCQ4koAj5sH",
        "outputId": "37291c8a-7ab0-48c1-d67c-e2158f179ef5"
      },
      "execution_count": null,
      "outputs": [
        {
          "output_type": "stream",
          "name": "stdout",
          "text": [
            "[[-1  9]\n",
            " [ 0 19]\n",
            " [ 1 18]]\n"
          ]
        }
      ]
    },
    {
      "cell_type": "code",
      "source": [
        "dbscan_1 = DBSCAN(eps=1, metric='euclidean', min_samples=6)\n",
        "\n",
        "dbscan_1.fit(X)\n",
        "\n",
        "unique, counts = np.unique(dbscan_1.labels_, return_counts=True)\n",
        "print(np.asarray((unique, counts)).T)"
      ],
      "metadata": {
        "colab": {
          "base_uri": "https://localhost:8080/"
        },
        "id": "e8qGzEggml4Y",
        "outputId": "08a7df09-9de1-41fa-caa8-e54ff408b7fe"
      },
      "execution_count": null,
      "outputs": [
        {
          "output_type": "stream",
          "name": "stdout",
          "text": [
            "[[-1  9]\n",
            " [ 0 37]]\n"
          ]
        }
      ]
    },
    {
      "cell_type": "code",
      "source": [
        "dbscan_1 = DBSCAN(eps=0.9, metric='euclidean', min_samples=5)\n",
        "\n",
        "dbscan_1.fit(X)\n",
        "\n",
        "unique, counts = np.unique(dbscan_1.labels_, return_counts=True)\n",
        "print(np.asarray((unique, counts)).T)"
      ],
      "metadata": {
        "colab": {
          "base_uri": "https://localhost:8080/"
        },
        "id": "Ut_I5AGIkx10",
        "outputId": "8b5a5325-2fac-4352-90a5-3ebe11e1af33"
      },
      "execution_count": null,
      "outputs": [
        {
          "output_type": "stream",
          "name": "stdout",
          "text": [
            "[[-1  8]\n",
            " [ 0 19]\n",
            " [ 1 19]]\n"
          ]
        }
      ]
    },
    {
      "cell_type": "markdown",
      "source": [
        "Сделаю предположение, что в данном случае кластеризация методом DBSCAN не подходит."
      ],
      "metadata": {
        "id": "Sl9Ajq2ox3Tz"
      }
    },
    {
      "cell_type": "markdown",
      "source": [
        "# **Выводы**"
      ],
      "metadata": {
        "id": "dK6pqErXcEwk"
      }
    },
    {
      "cell_type": "markdown",
      "source": [
        "Таким образом, были изучены и применены на практике 3 метода кластерного анализа. Иерархическая кластеризация лучше работает при небольших объёмах данных, в отличие от метода к-средних. Метод к-средних является достаточно быстрым, но при небольшом количестве кластеров может объединять не совсем схожие данные. Метод DBSCAN требует оптимального подбора двух параметров, что является более сложным, чем определение количества кластеров (как в двух предыдущих методах)."
      ],
      "metadata": {
        "id": "vMNH0PIMcJWv"
      }
    }
  ]
}